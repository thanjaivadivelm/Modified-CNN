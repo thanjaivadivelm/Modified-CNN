{
 "cells": [
  {
   "cell_type": "code",
   "execution_count": 23,
   "metadata": {
    "_cell_guid": "b1076dfc-b9ad-4769-8c92-a6c4dae69d19",
    "_uuid": "8f2839f25d086af736a60e9eeb907d3b93b6e0e5",
    "execution": {
     "iopub.execute_input": "2022-01-20T19:17:53.053998Z",
     "iopub.status.busy": "2022-01-20T19:17:53.053696Z",
     "iopub.status.idle": "2022-01-20T19:17:53.104299Z",
     "shell.execute_reply": "2022-01-20T19:17:53.103406Z",
     "shell.execute_reply.started": "2022-01-20T19:17:53.053964Z"
    }
   },
   "outputs": [],
   "source": [
    "import warnings\n",
    "warnings.filterwarnings(\"ignore\")\n",
    "import tensorflow as tf\n",
    "import matplotlib.pyplot as plt\n",
    "tf.compat.v1.set_random_seed(0)\n",
    "from tensorflow import keras\n",
    "import numpy as np\n",
    "np.random.seed(0)\n",
    "import itertools\n",
    "from keras.preprocessing.image import image_dataset_from_directory\n",
    "from tensorflow.keras.layers.experimental.preprocessing import Rescaling\n",
    "from sklearn.metrics import precision_score, accuracy_score, recall_score, confusion_matrix, ConfusionMatrixDisplay"
   ]
  },
  {
   "cell_type": "code",
   "execution_count": 24,
   "metadata": {
    "execution": {
     "iopub.execute_input": "2022-01-20T19:17:53.106563Z",
     "iopub.status.busy": "2022-01-20T19:17:53.106335Z",
     "iopub.status.idle": "2022-01-20T19:17:56.945544Z",
     "shell.execute_reply": "2022-01-20T19:17:56.944889Z",
     "shell.execute_reply.started": "2022-01-20T19:17:53.106535Z"
    }
   },
   "outputs": [
    {
     "name": "stdout",
     "output_type": "stream",
     "text": [
      "Found 10000 files belonging to 10 classes.\n",
      "Found 1000 files belonging to 10 classes.\n"
     ]
    }
   ],
   "source": [
    "train_gen = image_dataset_from_directory(directory=\"../input/tomatoleaf/tomato/train\",\n",
    "                                         image_size=(256, 256))\n",
    "test_gen = image_dataset_from_directory(directory=\"../input/tomatoleaf/tomato/val\",\n",
    "                                        image_size=(256, 256))\n",
    "\n",
    "rescale = Rescaling(scale=1.0/255)\n",
    "\n",
    "train_gen = train_gen.map(lambda image,label:(rescale(image),label))\n",
    "test_gen  = test_gen.map(lambda image,label:(rescale(image),label))"
   ]
  },
  {
   "cell_type": "code",
   "execution_count": 25,
   "metadata": {
    "execution": {
     "iopub.execute_input": "2022-01-20T19:17:56.947010Z",
     "iopub.status.busy": "2022-01-20T19:17:56.946748Z",
     "iopub.status.idle": "2022-01-20T19:17:56.952262Z",
     "shell.execute_reply": "2022-01-20T19:17:56.951628Z",
     "shell.execute_reply.started": "2022-01-20T19:17:56.946974Z"
    }
   },
   "outputs": [],
   "source": [
    "from tensorflow.keras.models import Sequential\n",
    "from tensorflow.keras.layers import Dense, Dropout, Flatten, Conv2D, MaxPool2D, BatchNormalization,MaxPooling2D,BatchNormalization,\\\n",
    "                        Permute, TimeDistributed, Bidirectional,GRU, SimpleRNN, LSTM, GlobalAveragePooling2D, SeparableConv2D\n",
    "from keras import models\n",
    "from keras import layers\n",
    "import tensorflow as tf\n",
    "#from keras.applications import VGG16,VGG19,inception_v3\n",
    "from keras import backend as K"
   ]
  },
  {
   "cell_type": "code",
   "execution_count": 26,
   "metadata": {
    "execution": {
     "iopub.execute_input": "2022-01-20T19:17:56.953834Z",
     "iopub.status.busy": "2022-01-20T19:17:56.953454Z",
     "iopub.status.idle": "2022-01-20T19:17:57.073307Z",
     "shell.execute_reply": "2022-01-20T19:17:57.072524Z",
     "shell.execute_reply.started": "2022-01-20T19:17:56.953790Z"
    }
   },
   "outputs": [
    {
     "name": "stdout",
     "output_type": "stream",
     "text": [
      "Model: \"sequential_3\"\n",
      "_________________________________________________________________\n",
      "Layer (type)                 Output Shape              Param #   \n",
      "=================================================================\n",
      "separable_conv2d_15 (Separab (None, 218, 218, 32)      155       \n",
      "_________________________________________________________________\n",
      "batch_normalization_3 (Batch (None, 218, 218, 32)      128       \n",
      "_________________________________________________________________\n",
      "max_pooling2d_6 (MaxPooling2 (None, 109, 109, 32)      0         \n",
      "_________________________________________________________________\n",
      "separable_conv2d_16 (Separab (None, 107, 107, 64)      2400      \n",
      "_________________________________________________________________\n",
      "separable_conv2d_17 (Separab (None, 105, 105, 128)     8896      \n",
      "_________________________________________________________________\n",
      "dropout_9 (Dropout)          (None, 105, 105, 128)     0         \n",
      "_________________________________________________________________\n",
      "max_pooling2d_7 (MaxPooling2 (None, 52, 52, 128)       0         \n",
      "_________________________________________________________________\n",
      "separable_conv2d_18 (Separab (None, 50, 50, 64)        9408      \n",
      "_________________________________________________________________\n",
      "separable_conv2d_19 (Separab (None, 48, 48, 512)       33856     \n",
      "_________________________________________________________________\n",
      "dropout_10 (Dropout)         (None, 48, 48, 512)       0         \n",
      "_________________________________________________________________\n",
      "global_average_pooling2d_3 ( (None, 512)               0         \n",
      "_________________________________________________________________\n",
      "flatten_3 (Flatten)          (None, 512)               0         \n",
      "_________________________________________________________________\n",
      "dense_6 (Dense)              (None, 1024)              525312    \n",
      "_________________________________________________________________\n",
      "dropout_11 (Dropout)         (None, 1024)              0         \n",
      "_________________________________________________________________\n",
      "dense_7 (Dense)              (None, 10)                10250     \n",
      "=================================================================\n",
      "Total params: 590,405\n",
      "Trainable params: 590,341\n",
      "Non-trainable params: 64\n",
      "_________________________________________________________________\n"
     ]
    }
   ],
   "source": [
    "Model = Sequential()\n",
    "\n",
    "Model.add(SeparableConv2D(32,3,\n",
    "                          activation=\"relu\",\n",
    "                 input_shape=(220,220,3)))\n",
    "Model.add(BatchNormalization())\n",
    "Model.add(MaxPooling2D((2)))\n",
    "\n",
    "#\n",
    "Model.add(SeparableConv2D(64,3,\n",
    "                 activation=\"relu\"))\n",
    "Model.add(SeparableConv2D(128,(3,3),\n",
    "                 activation=\"relu\"))\n",
    "Model.add(Dropout(0.25))\n",
    "Model.add(MaxPooling2D((2)))\n",
    "\n",
    "#\n",
    "Model.add(SeparableConv2D(128,3,\n",
    "                 activation=\"relu\"))\n",
    "Model.add(SeparableConv2D(256,3,\n",
    "                 activation=\"relu\"))\n",
    "Model.add(Dropout(0.25))\n",
    "Model.add(MaxPooling2D((2)))\n",
    "#\n",
    "Model.add(SeparableConv2D(256,3,\n",
    "                 activation=\"relu\"))\n",
    "Model.add(SeparableConv2D(512,3,\n",
    "                 activation=\"relu\"))\n",
    "Model.add(Dropout(0.25))\n",
    "Model.add(GlobalAveragePooling2D())\n",
    "\n",
    "#\n",
    "Model.add(Flatten())\n",
    "Model.add(Dense(1024,\n",
    "                activation=\"relu\"))\n",
    "Model.add(Dropout(0.25))\n",
    "Model.add(Dense(10,\n",
    "                activation=\"softmax\"))\n",
    "\n",
    "Model.summary()"
   ]
  },
  {
   "cell_type": "code",
   "execution_count": null,
   "metadata": {
    "execution": {
     "iopub.execute_input": "2022-01-20T19:17:57.075669Z",
     "iopub.status.busy": "2022-01-20T19:17:57.075377Z"
    }
   },
   "outputs": [
    {
     "name": "stdout",
     "output_type": "stream",
     "text": [
      "Epoch 1/100\n",
      "313/313 [==============================] - 101s 321ms/step - loss: 1.8187 - accuracy: 0.2917 - val_loss: 2.1367 - val_accuracy: 0.1960\n",
      "Epoch 2/100\n",
      "313/313 [==============================] - 101s 321ms/step - loss: 1.2062 - accuracy: 0.5591 - val_loss: 1.5338 - val_accuracy: 0.4350\n",
      "Epoch 3/100\n",
      "313/313 [==============================] - 101s 322ms/step - loss: 0.7854 - accuracy: 0.7206 - val_loss: 1.0649 - val_accuracy: 0.5860\n",
      "Epoch 4/100\n",
      "313/313 [==============================] - 101s 321ms/step - loss: 0.5888 - accuracy: 0.7970 - val_loss: 0.6410 - val_accuracy: 0.8000\n",
      "Epoch 5/100\n",
      "313/313 [==============================] - 101s 322ms/step - loss: 0.4629 - accuracy: 0.8396 - val_loss: 0.5896 - val_accuracy: 0.8230\n",
      "Epoch 6/100\n",
      "313/313 [==============================] - 101s 323ms/step - loss: 0.3951 - accuracy: 0.8601 - val_loss: 0.3824 - val_accuracy: 0.8850\n",
      "Epoch 7/100\n",
      "313/313 [==============================] - 101s 322ms/step - loss: 0.3670 - accuracy: 0.8683 - val_loss: 0.3619 - val_accuracy: 0.8850\n",
      "Epoch 8/100\n",
      "313/313 [==============================] - 101s 322ms/step - loss: 0.3363 - accuracy: 0.8820 - val_loss: 0.3536 - val_accuracy: 0.8930\n",
      "Epoch 9/100\n",
      "313/313 [==============================] - 101s 322ms/step - loss: 0.2933 - accuracy: 0.8950 - val_loss: 0.3161 - val_accuracy: 0.8900\n",
      "Epoch 10/100\n",
      "313/313 [==============================] - 101s 321ms/step - loss: 0.2769 - accuracy: 0.9011 - val_loss: 0.7790 - val_accuracy: 0.7620\n",
      "Epoch 11/100\n",
      "313/313 [==============================] - 101s 322ms/step - loss: 0.2400 - accuracy: 0.9137 - val_loss: 0.3056 - val_accuracy: 0.9100\n",
      "Epoch 12/100\n",
      "313/313 [==============================] - 101s 321ms/step - loss: 0.2138 - accuracy: 0.9242 - val_loss: 0.2800 - val_accuracy: 0.9160\n",
      "Epoch 13/100\n",
      "313/313 [==============================] - 101s 321ms/step - loss: 0.2093 - accuracy: 0.9278 - val_loss: 0.2583 - val_accuracy: 0.9210\n",
      "Epoch 14/100\n",
      "313/313 [==============================] - 101s 323ms/step - loss: 0.1898 - accuracy: 0.9322 - val_loss: 0.5966 - val_accuracy: 0.8120\n",
      "Epoch 15/100\n",
      "313/313 [==============================] - 101s 321ms/step - loss: 0.2056 - accuracy: 0.9280 - val_loss: 0.2433 - val_accuracy: 0.9150\n",
      "Epoch 16/100\n",
      "313/313 [==============================] - 101s 321ms/step - loss: 0.1835 - accuracy: 0.9334 - val_loss: 0.4303 - val_accuracy: 0.8400\n",
      "Epoch 17/100\n",
      "313/313 [==============================] - 101s 322ms/step - loss: 0.1745 - accuracy: 0.9386 - val_loss: 0.1799 - val_accuracy: 0.9410\n",
      "Epoch 18/100\n",
      "313/313 [==============================] - 101s 321ms/step - loss: 0.1582 - accuracy: 0.9445 - val_loss: 0.1831 - val_accuracy: 0.9330\n",
      "Epoch 19/100\n",
      "313/313 [==============================] - 101s 322ms/step - loss: 0.1496 - accuracy: 0.9477 - val_loss: 0.2387 - val_accuracy: 0.9190\n",
      "Epoch 20/100\n",
      "313/313 [==============================] - 101s 321ms/step - loss: 0.1621 - accuracy: 0.9437 - val_loss: 0.1906 - val_accuracy: 0.9360\n",
      "Epoch 21/100\n",
      "313/313 [==============================] - 101s 321ms/step - loss: 0.1440 - accuracy: 0.9474 - val_loss: 0.3203 - val_accuracy: 0.8990\n",
      "Epoch 22/100\n",
      "313/313 [==============================] - 101s 321ms/step - loss: 0.1323 - accuracy: 0.9539 - val_loss: 0.1621 - val_accuracy: 0.9460\n",
      "Epoch 23/100\n",
      "313/313 [==============================] - 101s 321ms/step - loss: 0.1341 - accuracy: 0.9528 - val_loss: 0.1593 - val_accuracy: 0.9390\n",
      "Epoch 24/100\n",
      "313/313 [==============================] - 101s 321ms/step - loss: 0.1273 - accuracy: 0.9546 - val_loss: 0.3716 - val_accuracy: 0.8610\n",
      "Epoch 25/100\n",
      "313/313 [==============================] - 101s 321ms/step - loss: 0.1271 - accuracy: 0.9557 - val_loss: 0.1642 - val_accuracy: 0.9410\n",
      "Epoch 26/100\n",
      "313/313 [==============================] - 100s 320ms/step - loss: 0.0993 - accuracy: 0.9657 - val_loss: 0.2609 - val_accuracy: 0.9150\n",
      "Epoch 27/100\n",
      "313/313 [==============================] - 101s 321ms/step - loss: 0.1251 - accuracy: 0.9569 - val_loss: 0.2570 - val_accuracy: 0.9080\n",
      "Epoch 28/100\n",
      "313/313 [==============================] - 101s 322ms/step - loss: 0.1286 - accuracy: 0.9550 - val_loss: 0.2120 - val_accuracy: 0.9400\n",
      "Epoch 29/100\n",
      "313/313 [==============================] - 101s 321ms/step - loss: 0.0990 - accuracy: 0.9654 - val_loss: 0.1585 - val_accuracy: 0.9420\n",
      "Epoch 30/100\n",
      "313/313 [==============================] - 101s 321ms/step - loss: 0.1088 - accuracy: 0.9639 - val_loss: 0.1364 - val_accuracy: 0.9490\n",
      "Epoch 31/100\n",
      "313/313 [==============================] - 101s 321ms/step - loss: 0.1113 - accuracy: 0.9626 - val_loss: 0.4928 - val_accuracy: 0.8530\n",
      "Epoch 32/100\n",
      "313/313 [==============================] - 101s 321ms/step - loss: 0.1065 - accuracy: 0.9645 - val_loss: 0.1722 - val_accuracy: 0.9350\n",
      "Epoch 33/100\n",
      "313/313 [==============================] - 101s 322ms/step - loss: 0.0941 - accuracy: 0.9681 - val_loss: 0.2842 - val_accuracy: 0.8960\n",
      "Epoch 34/100\n",
      "313/313 [==============================] - 101s 321ms/step - loss: 0.0997 - accuracy: 0.9648 - val_loss: 0.1452 - val_accuracy: 0.9540\n",
      "Epoch 35/100\n",
      "124/313 [==========>...................] - ETA: 1:00 - loss: 0.1026 - accuracy: 0.9637"
     ]
    }
   ],
   "source": [
    "Model.compile(loss=\"sparse_categorical_crossentropy\", optimizer=\"adam\",metrics=[\"accuracy\"])\n",
    "#aug = ImageDataGenerator(fill_mode=\"nearest\")\n",
    "history = Model.fit_generator(train_gen,\n",
    "        validation_data=test_gen,\n",
    "        epochs=100, verbose=1\n",
    ")  \n"
   ]
  },
  {
   "cell_type": "code",
   "execution_count": null,
   "metadata": {},
   "outputs": [],
   "source": [
    "EPOCHS=100\n",
    "plt.figure(figsize=(20,5))\n",
    "plt.subplot(1,2,1)\n",
    "plt.title(\"Train and Validation Loss\")\n",
    "plt.xlabel(\"Epoch\")\n",
    "plt.ylabel(\"Loss\")\n",
    "plt.plot(range(EPOCHS),history.history['loss'],label=\"Train Loss\")\n",
    "plt.plot(range(EPOCHS),history.history['val_loss'], label=\"Validation Loss\")\n",
    "plt.legend()\n",
    "\n",
    "plt.subplot(1,2,2)\n",
    "plt.title(\"Train and Validation Accuracy\")\n",
    "plt.xlabel(\"Epoch\")\n",
    "plt.ylabel(\"Accuracy\")\n",
    "plt.plot(range(EPOCHS),history.history['accuracy'], label=\"Train Accuracy\")\n",
    "plt.plot(range(EPOCHS),history.history['val_accuracy'], label=\"Validation Accuracy\")\n",
    "plt.legend()\n",
    "plt.tight_layout()\n"
   ]
  },
  {
   "cell_type": "code",
   "execution_count": null,
   "metadata": {},
   "outputs": [],
   "source": [
    "labels = []\n",
    "predictions = []\n",
    "for x,y in test_gen:\n",
    "    labels.append(list(y.numpy()))\n",
    "    predictions.append(tf.argmax(Model.predict(x),1).numpy())"
   ]
  },
  {
   "cell_type": "code",
   "execution_count": null,
   "metadata": {},
   "outputs": [],
   "source": [
    "predictions = list(itertools.chain.from_iterable(predictions))\n",
    "labels = list(itertools.chain.from_iterable(labels))"
   ]
  },
  {
   "cell_type": "code",
   "execution_count": null,
   "metadata": {},
   "outputs": [],
   "source": [
    "print(\"Train Accuracy  : {:.2f} %\".format(history.history['accuracy'][-1]*100))\n",
    "print(\"Test Accuracy   : {:.2f} %\".format(accuracy_score(labels, predictions) * 100))\n",
    "print(\"Precision Score : {:.2f} %\".format(precision_score(labels, predictions, average='micro') * 100))\n",
    "print(\"Recall Score    : {:.2f} %\".format(recall_score(labels, predictions, average='micro') * 100))"
   ]
  },
  {
   "cell_type": "code",
   "execution_count": null,
   "metadata": {},
   "outputs": [],
   "source": [
    "cm = confusion_matrix(labels, predictions)\n",
    "disp = ConfusionMatrixDisplay(confusion_matrix=cm,\n",
    "                              display_labels=list(range(1,11)))\n",
    "fig, ax = plt.subplots(figsize=(15,15))\n",
    "disp.plot(ax=ax)\n",
    "plt.title(\"Confusion Matrix\")\n",
    "plt.show()"
   ]
  }
 ],
 "metadata": {
  "kernelspec": {
   "display_name": "Python 3 (ipykernel)",
   "language": "python",
   "name": "python3"
  },
  "language_info": {
   "codemirror_mode": {
    "name": "ipython",
    "version": 3
   },
   "file_extension": ".py",
   "mimetype": "text/x-python",
   "name": "python",
   "nbconvert_exporter": "python",
   "pygments_lexer": "ipython3",
   "version": "3.11.7"
  }
 },
 "nbformat": 4,
 "nbformat_minor": 4
}
